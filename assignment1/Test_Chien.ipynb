{
 "cells": [
  {
   "cell_type": "code",
   "execution_count": 3,
   "metadata": {},
   "outputs": [
    {
     "name": "stdout",
     "output_type": "stream",
     "text": [
      "[[3 7 5 6]\n",
      " [2 2 2 2]] a squre: [[ 9 49 25 36]\n",
      " [ 4  4  4  4]]\n",
      "sum a2 135\n",
      "test distance: 6.4031242374328485 6.4031242374328485\n"
     ]
    }
   ],
   "source": [
    "import numpy as np\n",
    "\n",
    "a= np.array([[3,7,5,6],[2,2,2,2]])\n",
    "b=np.array([[1,2,3,4],[3,3,3,3]])\n",
    "a2= a**2\n",
    "distance=np.linalg.norm(a-b)\n",
    "distance1= np.sqrt(np.sum((a-b)**2))\n",
    "print(a,'a squre:',a2)\n",
    "suma2=np.sum(a2)\n",
    "print('sum a2',suma2)\n",
    "print('test distance:', distance, distance1)"
   ]
  },
  {
   "cell_type": "code",
   "execution_count": 2,
   "metadata": {},
   "outputs": [
    {
     "name": "stdout",
     "output_type": "stream",
     "text": [
      "[[0 2 3 1]\n",
      " [0 1 2 3]]\n",
      "2 4\n"
     ]
    }
   ],
   "source": [
    "t=np.argsort(a)\n",
    "# inpus: t se luu gia tri cua index da sort\n",
    "# returns: tra ve array tuong ung vs index da sort o a\n",
    "#c=a[t[0]]\n",
    "print (t)\n",
    "\n",
    "[row,col]= t.shape\n",
    "print (row,col)\n"
   ]
  },
  {
   "cell_type": "code",
   "execution_count": 3,
   "metadata": {},
   "outputs": [
    {
     "data": {
      "text/plain": [
       "array([[ 2,  5,  2,  2],\n",
       "       [ 0,  4,  2,  3],\n",
       "       [-2,  2,  0,  1]])"
      ]
     },
     "execution_count": 3,
     "metadata": {},
     "output_type": "execute_result"
    }
   ],
   "source": [
    "c=np.array([[1,2,3,4],[3,3,3,3],[5,5,5,5]])\n",
    "a[0,:]-c"
   ]
  },
  {
   "cell_type": "code",
   "execution_count": 4,
   "metadata": {},
   "outputs": [
    {
     "name": "stdout",
     "output_type": "stream",
     "text": [
      "(3, 4) (2, 4)\n",
      "[[ 56  20]\n",
      " [ 63  24]\n",
      " [105  40]]\n",
      "[[ 3136   400]\n",
      " [ 3969   576]\n",
      " [11025  1600]]\n"
     ]
    },
    {
     "data": {
      "text/plain": [
       "array([10, 12, 20])"
      ]
     },
     "execution_count": 4,
     "metadata": {},
     "output_type": "execute_result"
    }
   ],
   "source": [
    "print(c.shape, a.shape)\n",
    "test=np.dot(c,a.T)\n",
    "print(test)\n",
    "print(test**2)\n",
    "np.sum(c,axis=1)\n"
   ]
  },
  {
   "cell_type": "code",
   "execution_count": 5,
   "metadata": {},
   "outputs": [
    {
     "name": "stdout",
     "output_type": "stream",
     "text": [
      "[[1 2 3 4]\n",
      " [3 3 3 3]\n",
      " [5 5 5 5]]\n",
      "[[[1 2 3 4]]\n",
      "\n",
      " [[3 3 3 3]]\n",
      "\n",
      " [[5 5 5 5]]]\n",
      "(3, 4)\n",
      "(3, 1, 4)\n"
     ]
    }
   ],
   "source": [
    "print(c)\n",
    "print(c[:,np.newaxis])\n",
    "print (c.shape)\n",
    "print (c[:,np.newaxis].shape)\n"
   ]
  },
  {
   "cell_type": "code",
   "execution_count": 6,
   "metadata": {},
   "outputs": [
    {
     "name": "stdout",
     "output_type": "stream",
     "text": [
      "[3 7 5 6] [5 1 5 5 5]\n",
      "(4, 1)\n",
      "(1, 5)\n",
      "hihi: [[ 8  4  8  8  8]\n",
      " [12  8 12 12 12]\n",
      " [10  6 10 10 10]\n",
      " [11  7 11 11 11]]\n"
     ]
    },
    {
     "data": {
      "text/plain": [
       "array([[[ 8,  4,  8,  8,  8]],\n",
       "\n",
       "       [[12,  8, 12, 12, 12]],\n",
       "\n",
       "       [[10,  6, 10, 10, 10]],\n",
       "\n",
       "       [[11,  7, 11, 11, 11]]])"
      ]
     },
     "execution_count": 6,
     "metadata": {},
     "output_type": "execute_result"
    }
   ],
   "source": [
    "testx=a[0]\n",
    "testy=np.array([5,1,5,5,5])\n",
    "print (testx,testy)\n",
    "testx=np.reshape(testx, (-1, 1))\n",
    "testy=np.reshape(testy, (1, -1))\n",
    "print(testx.shape)\n",
    "print(testy.shape)\n",
    "print('hihi:',testx+testy)\n",
    "testx[:,np.newaxis]+testy"
   ]
  },
  {
   "cell_type": "code",
   "execution_count": 7,
   "metadata": {},
   "outputs": [
    {
     "name": "stdout",
     "output_type": "stream",
     "text": [
      "[[3 7 5 6]\n",
      " [2 2 2 2]]\n",
      "<class 'list'>\n",
      "<class 'numpy.ndarray'>\n",
      "[array([[3, 7, 5, 6]]), array([[2, 2, 2, 2]])]\n"
     ]
    }
   ],
   "source": [
    "print (a)\n",
    "t=np.split(a,2)\n",
    "print (type (t))\n",
    "print (type(a))\n",
    "t[1]\n",
    "# merge list\n",
    "merge_list=[]\n",
    "merge_list += [l for l in t]\n",
    "print (merge_list)"
   ]
  },
  {
   "cell_type": "code",
   "execution_count": 8,
   "metadata": {},
   "outputs": [
    {
     "name": "stdout",
     "output_type": "stream",
     "text": [
      "[1 2 3 4 5 6 7 8 9]\n",
      "<class 'numpy.ndarray'>\n",
      "length 9\n",
      "2\n"
     ]
    }
   ],
   "source": [
    "lists = [[1, 2, 3], [4, 5, 6], [7, 8, 9]]\n",
    "\n",
    "merged_list= np.concatenate([lists[i] for i in range (len(lists))])\n",
    "# merged_list+= [item for l in lists for item in l]\n",
    "# for l in lists:\n",
    "#     print ('L:',l)\n",
    "#     merged_list =merged_list+ l\n",
    "#     print(merged_list)\n",
    "\n",
    "print(merged_list)\n",
    "print (type(merged_list))\n",
    "print ('length', len(merged_list))\n",
    "test= np.zeros((3,2))\n",
    "print(test.shape[1])"
   ]
  },
  {
   "cell_type": "code",
   "execution_count": 24,
   "metadata": {},
   "outputs": [
    {
     "name": "stdout",
     "output_type": "stream",
     "text": [
      "[[3 7 5 6]\n",
      " [2 2 2 2]]\n",
      "ashape:  (2, 4)\n",
      "b shape: (2,)\n"
     ]
    },
    {
     "data": {
      "text/plain": [
       "array([ 7, 11,  9, 10])"
      ]
     },
     "execution_count": 24,
     "metadata": {},
     "output_type": "execute_result"
    }
   ],
   "source": [
    "#If a is an N-D array and b is a 1-D array, it is a sum product over the last axis of a and b.\n",
    "print (a)\n",
    "print ('ashape: ',a.shape)\n",
    "b= np.array ([1,2])\n",
    "#b=np.reshape(b,(1,-1))\n",
    "print ('b shape:',b.shape)\n",
    "# a.dot(b) # cannot do, last axis of a =4, last axis of b=2\n",
    "b.dot(a) # do the first axis of a and first axis ofb"
   ]
  },
  {
   "cell_type": "code",
   "execution_count": 32,
   "metadata": {},
   "outputs": [
    {
     "name": "stdout",
     "output_type": "stream",
     "text": [
      "(3,)\n"
     ]
    },
    {
     "ename": "IndexError",
     "evalue": "too many indices for array",
     "output_type": "error",
     "traceback": [
      "\u001b[1;31m---------------------------------------------------------------------------\u001b[0m",
      "\u001b[1;31mIndexError\u001b[0m                                Traceback (most recent call last)",
      "\u001b[1;32m<ipython-input-32-b1ec50c60cc6>\u001b[0m in \u001b[0;36m<module>\u001b[1;34m()\u001b[0m\n\u001b[0;32m      2\u001b[0m \u001b[0mb\u001b[0m\u001b[1;33m=\u001b[0m\u001b[0mnp\u001b[0m\u001b[1;33m.\u001b[0m\u001b[0marray\u001b[0m \u001b[1;33m(\u001b[0m\u001b[1;33m[\u001b[0m\u001b[1;36m1\u001b[0m\u001b[1;33m,\u001b[0m\u001b[1;36m2\u001b[0m\u001b[1;33m]\u001b[0m\u001b[1;33m)\u001b[0m\u001b[1;33m\u001b[0m\u001b[0m\n\u001b[0;32m      3\u001b[0m \u001b[0mprint\u001b[0m \u001b[1;33m(\u001b[0m\u001b[0ma\u001b[0m\u001b[1;33m.\u001b[0m\u001b[0mshape\u001b[0m\u001b[1;33m)\u001b[0m\u001b[1;33m\u001b[0m\u001b[0m\n\u001b[1;32m----> 4\u001b[1;33m \u001b[0mprint\u001b[0m\u001b[1;33m(\u001b[0m\u001b[0ma\u001b[0m\u001b[1;33m[\u001b[0m\u001b[1;36m1\u001b[0m\u001b[1;33m,\u001b[0m\u001b[1;33m:\u001b[0m\u001b[1;33m]\u001b[0m\u001b[1;33m)\u001b[0m\u001b[1;33m\u001b[0m\u001b[0m\n\u001b[0m",
      "\u001b[1;31mIndexError\u001b[0m: too many indices for array"
     ]
    }
   ],
   "source": [
    "a=np.array([1,2,3])\n",
    "b=np.array ([1,2])\n",
    "print (a.shape)\n",
    "print(a[1,:])"
   ]
  },
  {
   "cell_type": "code",
   "execution_count": 33,
   "metadata": {},
   "outputs": [
    {
     "name": "stdout",
     "output_type": "stream",
     "text": [
      "(3, 3) (3, 1)\n"
     ]
    },
    {
     "data": {
      "text/plain": [
       "array([2, 0, 4])"
      ]
     },
     "execution_count": 33,
     "metadata": {},
     "output_type": "execute_result"
    }
   ],
   "source": [
    "matrix = np.array([[1, 2, 3],[0, 3, 5],[1, 4, 4]])\n",
    "vector = np.array([[1], [0], [2]])\n",
    "print (matrix.shape, vector.shape)\n",
    "np.choose(vector.flat, matrix.T)"
   ]
  },
  {
   "cell_type": "code",
   "execution_count": 44,
   "metadata": {},
   "outputs": [
    {
     "name": "stdout",
     "output_type": "stream",
     "text": [
      "(4, 3) (3,)\n",
      "[[ 0  1  2]\n",
      " [-1  2  4]\n",
      " [ 0  3  3]\n",
      " [ 0  1  2]]\n"
     ]
    }
   ],
   "source": [
    "#broadcasting\n",
    "a = np.array([[1, 2, 3],[0, 3, 5],[1, 4, 4],[1,2,3]])\n",
    "b = np.array([1,1,1])\n",
    "\n",
    "print (a.shape, b.shape)\n",
    "print (a-b)"
   ]
  },
  {
   "cell_type": "markdown",
   "metadata": {},
   "source": [
    "## SVM exercise"
   ]
  },
  {
   "cell_type": "code",
   "execution_count": 110,
   "metadata": {},
   "outputs": [
    {
     "name": "stdout",
     "output_type": "stream",
     "text": [
      "a original: [[1 2 3]\n",
      " [0 3 5]\n",
      " [1 4 4]\n",
      " [1 2 3]]\n",
      "b original: [1 2 1 0]\n"
     ]
    },
    {
     "data": {
      "text/plain": [
       "array([[1, 0, 3],\n",
       "       [0, 3, 0],\n",
       "       [1, 0, 4],\n",
       "       [0, 2, 3]])"
      ]
     },
     "execution_count": 110,
     "metadata": {},
     "output_type": "execute_result"
    }
   ],
   "source": [
    "# Set some value in array a =0, which index store in matrix b.\n",
    "#https://stackoverflow.com/questions/23435782/numpy-selecting-specific-column-index-per-row-by-using-a-list-of-indexes/23435843\n",
    "# a= 4x3, b= 3\n",
    "a = np.array([[1, 2, 3],[0, 3, 5],[1, 4, 4],[1,2,3]])\n",
    "print ('a original:',a)\n",
    "b = np.array([1,2,1,0])\n",
    "print ('b original:',b)\n",
    "margins=a\n",
    "margins[np.arange(a.shape[0]),b]=0 # xét trên từng hàng của margins, cột của margins= giá trí tại cột tương ứng vs hàng a của b, set =0. Ví dụ: hàng 1 của margins, thì lấy giá trị ở cột 1 của b làm giá trị cột của margins\n",
    "#margins[:,b]=0# xet tren tat ca cac hang cua margins, tất cả vị trí mà có trong giá trị của b, se set = 0 het\n",
    "margins\n"
   ]
  },
  {
   "cell_type": "code",
   "execution_count": 66,
   "metadata": {},
   "outputs": [
    {
     "data": {
      "text/plain": [
       "array([-44,   1, -55,   3,   4])"
      ]
     },
     "execution_count": 66,
     "metadata": {},
     "output_type": "execute_result"
    }
   ],
   "source": [
    "a = np.arange(5)\n",
    "np.put(a, [0, 2], [-44, -55])\n",
    "a\n"
   ]
  },
  {
   "cell_type": "markdown",
   "metadata": {},
   "source": [
    "dw=500x10, y= 500. Thay the cac gia tri ma dw[indexwewant, y[index we want]]= gia tri nao do. Dùng trong đoạn tính gradient vectorized của SVM\n",
    "Explained vectorized gradient SVM: https://mlxai.github.io/2017/01/06/vectorized-implementation-of-svm-loss-and-gradient-update.html \n",
    "Remember: read comments, summ over C class not over m examples"
   ]
  },
  {
   "cell_type": "code",
   "execution_count": 92,
   "metadata": {},
   "outputs": [
    {
     "name": "stdout",
     "output_type": "stream",
     "text": [
      "[[ 0. 42.  0.]\n",
      " [ 0.  0.  0.]\n",
      " [ 0.  0. 42.]\n",
      " [ 0.  0.  0.]]\n"
     ]
    }
   ],
   "source": [
    "y = np.array([1, 2,2,3])\n",
    "index_we_want= np.array([0,2])\n",
    "dw = np.zeros((4,3))\n",
    "dw[index_we_want, y[index_we_want]] = 42\n",
    "print (dw)"
   ]
  },
  {
   "cell_type": "code",
   "execution_count": 95,
   "metadata": {},
   "outputs": [
    {
     "name": "stdout",
     "output_type": "stream",
     "text": [
      "(2, 2)\n",
      "(4,)\n"
     ]
    }
   ],
   "source": [
    "# Convert 2D array into 1D array\n",
    "a = np.array([[1,2], [3,4]])\n",
    "b=a.flatten()\n",
    "print (a.shape)\n",
    "print (b.shape)\n",
    "\n"
   ]
  },
  {
   "cell_type": "code",
   "execution_count": 106,
   "metadata": {},
   "outputs": [
    {
     "data": {
      "text/plain": [
       "array([[[0., 0., 0.],\n",
       "        [0., 0., 0.]],\n",
       "\n",
       "       [[0., 0., 0.],\n",
       "        [0., 0., 0.]]])"
      ]
     },
     "execution_count": 106,
     "metadata": {},
     "output_type": "execute_result"
    }
   ],
   "source": [
    "t=a.shape\n",
    "t= t+(3,)\n",
    "new= np.zeros (t)\n",
    "new\n"
   ]
  },
  {
   "cell_type": "code",
   "execution_count": 109,
   "metadata": {},
   "outputs": [
    {
     "name": "stdout",
     "output_type": "stream",
     "text": [
      "(3, 2)\n"
     ]
    },
    {
     "data": {
      "text/plain": [
       "array([3, 4])"
      ]
     },
     "execution_count": 109,
     "metadata": {},
     "output_type": "execute_result"
    }
   ],
   "source": [
    "a=np.array([[1,2],[1,1],[1,1]])\n",
    "print(a.shape)\n",
    "t= np.sum(a,axis=0)\n",
    "t\n"
   ]
  },
  {
   "cell_type": "markdown",
   "metadata": {},
   "source": [
    "Linear Classifier - SGD\n"
   ]
  },
  {
   "cell_type": "markdown",
   "metadata": {},
   "source": [
    "1.Create a Batch size from all training sample"
   ]
  },
  {
   "cell_type": "code",
   "execution_count": 116,
   "metadata": {},
   "outputs": [
    {
     "data": {
      "text/plain": [
       "array([[1, 1, 1],\n",
       "       [1, 2, 3]])"
      ]
     },
     "execution_count": 116,
     "metadata": {},
     "output_type": "execute_result"
    }
   ],
   "source": [
    "a=np.array([[1,2,3],[1,1,1]])\n",
    "b=np.array([1,0])\n",
    "t= a[b,:]\n",
    "t\n"
   ]
  },
  {
   "cell_type": "markdown",
   "metadata": {},
   "source": [
    "###### SOftmax\n",
    "https://mlxai.github.io/2017/01/09/implementing-softmax-classifier-with-vectorized-operations.html\n",
    "\n",
    "numerical stability: http://cs231n.github.io/linear-classify/#softmax\n",
    "\n",
    "Gradient computing: http://cs231n.github.io/neural-networks-case-study/#grad\n",
    "\n",
    "Mathematical derivation: https://math.stackexchange.com/a/945918/359714\n",
    "\n",
    "summary softmax gradient final results: https://mlxai.github.io/2017/01/09/implementing-softmax-classifier-with-vectorized-operations.html\n",
    "Lúc làm nên tính trước loss và gradient để biết nhửng biến trung gian cần xài là gì\n",
    "\n",
    "TÍnh gradient theo batch size: chính là lấy gradient, loss trên 1 tập data. Cộng dồn trên từng data, rồi chia ra trung bình theo số lượng batch "
   ]
  },
  {
   "cell_type": "code",
   "execution_count": 4,
   "metadata": {
    "scrolled": true
   },
   "outputs": [
    {
     "data": {
      "text/plain": [
       "20.085536923187668"
      ]
     },
     "execution_count": 4,
     "metadata": {},
     "output_type": "execute_result"
    }
   ],
   "source": [
    "# Exponential\n",
    "np.exp(3)"
   ]
  },
  {
   "cell_type": "code",
   "execution_count": 27,
   "metadata": {},
   "outputs": [
    {
     "name": "stdout",
     "output_type": "stream",
     "text": [
      "(3, 1)\n"
     ]
    },
    {
     "data": {
      "text/plain": [
       "array([[-1, -1],\n",
       "       [ 2,  2],\n",
       "       [ 1,  1]])"
      ]
     },
     "execution_count": 27,
     "metadata": {},
     "output_type": "execute_result"
    }
   ],
   "source": [
    "# Minus each rows of matrix a with corresponding values in matrix B\n",
    "# Used in the numerical stable in softmax loss\n",
    "import numpy as np\n",
    "a=np.array ([[2,2],[3,3],[2,2]])\n",
    "b=np.array([3,1,1])\n",
    "b=b[:, np.newaxis]\n",
    "print (b.shape)\n",
    "a-b"
   ]
  },
  {
   "cell_type": "code",
   "execution_count": 17,
   "metadata": {},
   "outputs": [
    {
     "data": {
      "text/plain": [
       "array([[1.        , 2.        , 2.33333333, 0.5       ],\n",
       "       [2.        , 2.5       , 2.66666667, 0.5       ],\n",
       "       [3.        , 3.        , 3.        , 0.5       ]])"
      ]
     },
     "execution_count": 17,
     "metadata": {},
     "output_type": "execute_result"
    }
   ],
   "source": [
    "#Divide a for correspinding value in b. In softmax vectorized\n",
    "a = np.array([[1, 2, 3], [4, 5, 6], [7, 8, 9],[2,2,2]]) \n",
    "b= np.array ([1,2,3,4])\n",
    "c= a.T/b\n",
    "c\n"
   ]
  },
  {
   "cell_type": "markdown",
   "metadata": {},
   "source": [
    "## 2 Layers Network"
   ]
  },
  {
   "cell_type": "code",
   "execution_count": 16,
   "metadata": {},
   "outputs": [
    {
     "name": "stdout",
     "output_type": "stream",
     "text": [
      "keep dimension shape: (4, 1)\n",
      "a shape: (4, 3)\n",
      "[[1.         2.         3.        ]\n",
      " [2.         2.5        3.        ]\n",
      " [2.33333333 2.66666667 3.        ]\n",
      " [0.5        0.5        0.5       ]]\n"
     ]
    }
   ],
   "source": [
    "#a technique use, to keep the dimension when calculate softmax loss.\n",
    "# Từng hàng của ma trận sẽ chia cho giá trị sum của mỗi hàng đó\n",
    "# when use keep dims= true, the output of the axis loss by sum will set =0\n",
    "#softmax_prob= exp_scores/ np.sum(exp_scores,axis=1, keepdims=True)#NxC\n",
    "import numpy as np\n",
    "a = np.array([[1, 2, 3], [4, 5, 6], [7, 8, 9],[2,2,2]]) \n",
    "b= np.array ([[1,2,3,4],[0,0,0,0]])\n",
    "b=b.T\n",
    "# test= a/np.sum(b,axis=1)#operands could not be broadcast together with shapes (4,3) (4,). \n",
    "test= a/np.sum(b,axis=1,keepdims=True)  # 4x3 / 4x1 = 4\n",
    "print ('keep dimension shape:',np.sum(b,axis=1,keepdims=True).shape)\n",
    "print ('a shape:',a.shape)\n",
    "print (test)"
   ]
  },
  {
   "cell_type": "markdown",
   "metadata": {},
   "source": [
    "# Image Feature\n"
   ]
  },
  {
   "cell_type": "markdown",
   "metadata": {},
   "source": [
    "Thay vì train FC layers vào raw Image. Thì h dùng phương pháp thủ công tìm features , dựa trên features này rồi mới phân loại. Nên dạt kết quả tốt hơn. Sua này cải tiến thêm thì sẽ dùng end to end luôn. Tạo ra dc features tốt hơn.\n",
    "\n",
    "Các cách trích xuất features: 1 dùng HOG để extract texture. Dùng H của HSV color, de extract color information. Rồi concate 2 features này (support code to do it)\n",
    "\n",
    "Cách visualize results:\n",
    "Visualize the loss, accuracy. Visualize the wrong classification, the raw image, which was classify wrong\n"
   ]
  },
  {
   "cell_type": "code",
   "execution_count": null,
   "metadata": {},
   "outputs": [],
   "source": []
  }
 ],
 "metadata": {
  "kernelspec": {
   "display_name": "Python 3",
   "language": "python",
   "name": "python3"
  },
  "language_info": {
   "codemirror_mode": {
    "name": "ipython",
    "version": 3
   },
   "file_extension": ".py",
   "mimetype": "text/x-python",
   "name": "python",
   "nbconvert_exporter": "python",
   "pygments_lexer": "ipython3",
   "version": "3.6.6"
  }
 },
 "nbformat": 4,
 "nbformat_minor": 2
}
